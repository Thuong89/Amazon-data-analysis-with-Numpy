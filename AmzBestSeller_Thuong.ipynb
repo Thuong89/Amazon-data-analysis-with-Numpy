{
 "cells": [
  {
   "cell_type": "markdown",
   "metadata": {},
   "source": [
    "# Amazon books data analysis with Numpy"
   ]
  },
  {
   "cell_type": "code",
   "execution_count": 1,
   "metadata": {
    "ExecuteTime": {
     "end_time": "2020-11-17T18:26:47.705247Z",
     "start_time": "2020-11-17T18:26:47.533085Z"
    }
   },
   "outputs": [],
   "source": [
    "import numpy as np\n"
   ]
  },
  {
   "cell_type": "markdown",
   "metadata": {},
   "source": [
    "## importing and convert to numpy, and inspecting"
   ]
  },
  {
   "cell_type": "markdown",
   "metadata": {},
   "source": [
    "the file is downloaded from kargle(https://www.kaggle.com/sootersaalu/amazon-top-50-bestselling-books-2009-2019)\n",
    "However, dataset of first col contain many commas, causing trouble when using numpy.genfromtxt(...,delimiter=',') --> more collums than expected.\n",
    "\n",
    "To avoid this, and since I should not use  Pandas, I use csv and turn it to list of list, then apply numply."
   ]
  },
  {
   "cell_type": "code",
   "execution_count": 2,
   "metadata": {
    "ExecuteTime": {
     "end_time": "2020-11-17T18:26:47.741428Z",
     "start_time": "2020-11-17T18:26:47.708359Z"
    }
   },
   "outputs": [
    {
     "name": "stdout",
     "output_type": "stream",
     "text": [
      "[['Name', 'Author', 'User Rating', 'Reviews', 'Price', 'Year', 'Genre'], ['10-Day Green Smoothie Cleanse', 'JJ Smith', '4.7', '17350', '8', '2016', 'Non Fiction'], ['11/22/63: A Novel', 'Stephen King', '4.6', '2052', '22', '2011', 'Fiction'], ['12 Rules for Life: An Antidote to Chaos', 'Jordan B. Peterson', '4.7', '18979', '15', '2018', 'Non Fiction'], ['1984 (Signet Classics)', 'George Orwell', '4.7', '21424', '6', '2017', 'Fiction']]\n"
     ]
    },
    {
     "data": {
      "text/plain": [
       "7"
      ]
     },
     "execution_count": 2,
     "metadata": {},
     "output_type": "execute_result"
    }
   ],
   "source": [
    "import csv \n",
    "data_r=list(csv.reader(open('bestsellerswithcategories.csv'))) # list of list\n",
    "print(data_r[:5]) # inspect first 5 rows\n",
    "len(data_r[0]) # 1 row has 7 columns"
   ]
  },
  {
   "cell_type": "code",
   "execution_count": 3,
   "metadata": {
    "ExecuteTime": {
     "end_time": "2020-11-17T18:26:47.752592Z",
     "start_time": "2020-11-17T18:26:47.745955Z"
    }
   },
   "outputs": [
    {
     "name": "stdout",
     "output_type": "stream",
     "text": [
      "['Name', 'Author', 'User Rating', 'Reviews', 'Price', 'Year', 'Genre']\n"
     ]
    }
   ],
   "source": [
    "titles=data_r[0]  # extract the title\n",
    "data=data_r[1:] # the rest data to use\n",
    "print(titles)"
   ]
  },
  {
   "cell_type": "code",
   "execution_count": 4,
   "metadata": {
    "ExecuteTime": {
     "end_time": "2020-11-17T18:26:47.779568Z",
     "start_time": "2020-11-17T18:26:47.759127Z"
    }
   },
   "outputs": [
    {
     "data": {
      "text/plain": [
       "(550, 7)"
      ]
     },
     "execution_count": 4,
     "metadata": {},
     "output_type": "execute_result"
    }
   ],
   "source": [
    "# tranform data to numpy array \n",
    "# column 1,2,7 are string, and the rest are numeric.at this step, all are string.\n",
    "data=np.array(data,dtype=str)\n",
    "data.shape # 550 rows, 7 columns"
   ]
  },
  {
   "cell_type": "code",
   "execution_count": 5,
   "metadata": {
    "ExecuteTime": {
     "end_time": "2020-11-17T18:26:47.808595Z",
     "start_time": "2020-11-17T18:26:47.783843Z"
    }
   },
   "outputs": [
    {
     "name": "stdout",
     "output_type": "stream",
     "text": [
      "[['10-Day Green Smoothie Cleanse' 'JJ Smith' '4.7' '17350' '8' '2016'\n",
      "  'Non Fiction']\n",
      " ['11/22/63: A Novel' 'Stephen King' '4.6' '2052' '22' '2011' 'Fiction']\n",
      " ['12 Rules for Life: An Antidote to Chaos' 'Jordan B. Peterson' '4.7'\n",
      "  '18979' '15' '2018' 'Non Fiction']\n",
      " ['1984 (Signet Classics)' 'George Orwell' '4.7' '21424' '6' '2017'\n",
      "  'Fiction']\n",
      " ['5,000 Awesome Facts (About Everything!) (National Geographic Kids)'\n",
      "  'National Geographic Kids' '4.8' '7665' '12' '2019' 'Non Fiction']]\n"
     ]
    }
   ],
   "source": [
    "print(data[:5])"
   ]
  },
  {
   "cell_type": "code",
   "execution_count": 6,
   "metadata": {
    "ExecuteTime": {
     "end_time": "2020-11-17T18:26:47.840420Z",
     "start_time": "2020-11-17T18:26:47.814990Z"
    }
   },
   "outputs": [],
   "source": [
    "# to have more human readability, I set print:\n",
    "np.set_printoptions(precision=1,suppress=True)"
   ]
  },
  {
   "cell_type": "markdown",
   "metadata": {},
   "source": [
    "## extract data to work on"
   ]
  },
  {
   "cell_type": "code",
   "execution_count": 45,
   "metadata": {
    "ExecuteTime": {
     "end_time": "2020-11-17T19:09:28.651833Z",
     "start_time": "2020-11-17T19:09:28.615117Z"
    }
   },
   "outputs": [
    {
     "name": "stdout",
     "output_type": "stream",
     "text": [
      "[[    4.7 17350.      8.   2016. ]\n",
      " [    4.6  2052.     22.   2011. ]\n",
      " [    4.7 18979.     15.   2018. ]\n",
      " [    4.7 21424.      6.   2017. ]\n",
      " [    4.8  7665.     12.   2019. ]\n",
      " [    4.4 12643.     11.   2011. ]\n",
      " [    4.7 19735.     30.   2014. ]\n",
      " [    4.7 19699.     15.   2017. ]\n",
      " [    4.7  5983.      3.   2018. ]\n",
      " [    4.6 23848.      8.   2016. ]\n",
      " [    4.6 23848.      8.   2017. ]\n",
      " [    4.6   460.      2.   2010. ]\n",
      " [    4.6  4149.     32.   2011. ]\n",
      " [    4.5  5153.      5.   2018. ]\n",
      " [    4.6  5013.     17.   2009. ]\n",
      " [    4.5  2313.      4.   2016. ]\n",
      " [    4.6  2925.      6.   2015. ]\n",
      " [    4.4  2951.      6.   2015. ]\n",
      " [    4.5  2426.      8.   2015. ]\n",
      " [    4.8  9198.     13.   2016. ]]\n",
      "(550, 4)\n"
     ]
    }
   ],
   "source": [
    "#extract all col belong to numeric type from index col 2 to 5\n",
    "# from titles-> column in order: User Rating', 'Reviews', 'Price', 'Year'\n",
    "data_n=data[:,2:6].astype(float)\n",
    "print(data_n[:20])\n",
    "print(data_n.shape)"
   ]
  },
  {
   "cell_type": "markdown",
   "metadata": {},
   "source": [
    "## check missing value"
   ]
  },
  {
   "cell_type": "code",
   "execution_count": 8,
   "metadata": {
    "ExecuteTime": {
     "end_time": "2020-11-17T18:26:47.896308Z",
     "start_time": "2020-11-17T18:26:47.878324Z"
    }
   },
   "outputs": [
    {
     "data": {
      "text/plain": [
       "False"
      ]
     },
     "execution_count": 8,
     "metadata": {},
     "output_type": "execute_result"
    }
   ],
   "source": [
    "#before calculating, check any missing value:\n",
    "np.isnan(data_n).any()  #data has no missing value"
   ]
  },
  {
   "cell_type": "markdown",
   "metadata": {},
   "source": [
    "## Some descriptive statistics that make sense"
   ]
  },
  {
   "cell_type": "code",
   "execution_count": 9,
   "metadata": {
    "ExecuteTime": {
     "end_time": "2020-11-17T18:26:47.921793Z",
     "start_time": "2020-11-17T18:26:47.901635Z"
    }
   },
   "outputs": [
    {
     "name": "stdout",
     "output_type": "stream",
     "text": [
      "year of data record from 2009.0 to 2019.0\n"
     ]
    }
   ],
   "source": [
    "# find max and min year col =last col of data_n\n",
    "print(f'year of data record from {data_n[:,-1].min()} to {data_n[:,-1].max()}')"
   ]
  },
  {
   "cell_type": "code",
   "execution_count": 10,
   "metadata": {
    "ExecuteTime": {
     "end_time": "2020-11-17T18:26:47.949890Z",
     "start_time": "2020-11-17T18:26:47.927598Z"
    }
   },
   "outputs": [
    {
     "name": "stdout",
     "output_type": "stream",
     "text": [
      "mean of rating, reviews, prices [    4.6 11953.3    13.1]\n"
     ]
    }
   ],
   "source": [
    "# calculate mean of user rating, reviews, prices --> all data_n except last col\n",
    "print('mean of rating, reviews, prices',data_n[:,:-1].mean(axis=0))"
   ]
  },
  {
   "cell_type": "code",
   "execution_count": 11,
   "metadata": {
    "ExecuteTime": {
     "end_time": "2020-11-17T18:26:47.973606Z",
     "start_time": "2020-11-17T18:26:47.958266Z"
    }
   },
   "outputs": [
    {
     "name": "stdout",
     "output_type": "stream",
     "text": [
      "max of rating, reviews, prices [    4.9 87841.    105. ]\n",
      "min of rating, reviews, prices [ 3.3 37.   0. ]\n"
     ]
    }
   ],
   "source": [
    "#calculate max or min of rating, reviews, prices:\n",
    "print('max of rating, reviews, prices',data_n[:,:-1].max(axis=0))\n",
    "print('min of rating, reviews, prices',data_n[:,:-1].min(axis=0))\n",
    "\n",
    "#---> rating from 3.3 to 4.9\n",
    "#---> reviews from 37 to 87841\n",
    "#---> prices 0 to 105: some free books"
   ]
  },
  {
   "cell_type": "code",
   "execution_count": 30,
   "metadata": {
    "ExecuteTime": {
     "end_time": "2020-11-17T18:50:31.601774Z",
     "start_time": "2020-11-17T18:50:31.585684Z"
    }
   },
   "outputs": [
    {
     "data": {
      "text/plain": [
       "array([[ 1. , -0.1],\n",
       "       [-0.1,  1. ]])"
      ]
     },
     "execution_count": 30,
     "metadata": {},
     "output_type": "execute_result"
    }
   ],
   "source": [
    "# we want to know that if any strong relationship between price and ratings\n",
    "\n",
    "np.corrcoef(data_n[:,2],data_n[:,0]) #--> weak negative relationship"
   ]
  },
  {
   "cell_type": "code",
   "execution_count": 31,
   "metadata": {
    "ExecuteTime": {
     "end_time": "2020-11-17T18:50:36.770044Z",
     "start_time": "2020-11-17T18:50:36.733639Z"
    }
   },
   "outputs": [
    {
     "data": {
      "text/plain": [
       "array([[ 1. , -0.1],\n",
       "       [-0.1,  1. ]])"
      ]
     },
     "execution_count": 31,
     "metadata": {},
     "output_type": "execute_result"
    }
   ],
   "source": [
    "# then, if strong relationship between price and review?\n",
    "\n",
    "np.corrcoef(data_n[:,2],data_n[:,1]) #---> quite weak negative relationship"
   ]
  },
  {
   "cell_type": "code",
   "execution_count": 38,
   "metadata": {
    "ExecuteTime": {
     "end_time": "2020-11-17T18:58:02.541067Z",
     "start_time": "2020-11-17T18:58:02.494529Z"
    }
   },
   "outputs": [
    {
     "data": {
      "text/plain": [
       "array([    0.2, 11720.5,    10.8])"
      ]
     },
     "execution_count": 38,
     "metadata": {},
     "output_type": "execute_result"
    }
   ],
   "source": [
    "# cal std to have idea-> for later points\n",
    "np.std(data_n[:,:-1],axis=0)"
   ]
  },
  {
   "cell_type": "markdown",
   "metadata": {},
   "source": [
    "## we are curious to know top 5 highest rating or reviews"
   ]
  },
  {
   "cell_type": "code",
   "execution_count": 17,
   "metadata": {
    "ExecuteTime": {
     "end_time": "2020-11-17T18:30:21.687520Z",
     "start_time": "2020-11-17T18:30:21.649187Z"
    }
   },
   "outputs": [
    {
     "name": "stdout",
     "output_type": "stream",
     "text": [
      "[[    4.9 14344.      5.   2019. ]\n",
      " [    4.9 14344.      5.   2017. ]\n",
      " [    4.9 21834.      8.   2014. ]\n",
      " [    4.9  7038.      7.   2012. ]\n",
      " [    4.9 21834.      8.   2016. ]]\n",
      "[['Brown Bear, Brown Bear, What Do You See?' 'Bill Martin Jr.' '4.9'\n",
      "  '14344' '5' '2019' 'Fiction']\n",
      " ['Brown Bear, Brown Bear, What Do You See?' 'Bill Martin Jr.' '4.9'\n",
      "  '14344' '5' '2017' 'Fiction']\n",
      " [\"Oh, the Places You'll Go!\" 'Dr. Seuss' '4.9' '21834' '8' '2014'\n",
      "  'Fiction']\n",
      " ['Goodnight, Goodnight Construction Site (Hardcover Books for Toddlers, Preschool Books for Kids)'\n",
      "  'Sherri Duskey Rinker' '4.9' '7038' '7' '2012' 'Fiction']\n",
      " [\"Oh, the Places You'll Go!\" 'Dr. Seuss' '4.9' '21834' '8' '2016'\n",
      "  'Fiction']]\n"
     ]
    }
   ],
   "source": [
    "#rating\n",
    "print(data_n[np.argsort(data_n[:,0])[-5:]])\n",
    "# if we want to see all other text information, book name, genres,..\n",
    "print(data[np.argsort(data_n[:,0])[-5:]])"
   ]
  },
  {
   "cell_type": "code",
   "execution_count": 18,
   "metadata": {
    "ExecuteTime": {
     "end_time": "2020-11-17T18:30:49.372516Z",
     "start_time": "2020-11-17T18:30:49.328515Z"
    }
   },
   "outputs": [
    {
     "name": "stdout",
     "output_type": "stream",
     "text": [
      "[[    4.8 61133.     11.   2018. ]\n",
      " [    4.8 61133.     11.   2019. ]\n",
      " [    4.1 79446.     18.   2015. ]\n",
      " [    4.1 79446.      7.   2016. ]\n",
      " [    4.8 87841.     15.   2019. ]]\n",
      "[['Becoming' 'Michelle Obama' '4.8' '61133' '11' '2018' 'Non Fiction']\n",
      " ['Becoming' 'Michelle Obama' '4.8' '61133' '11' '2019' 'Non Fiction']\n",
      " ['The Girl on the Train' 'Paula Hawkins' '4.1' '79446' '18' '2015'\n",
      "  'Fiction']\n",
      " ['The Girl on the Train' 'Paula Hawkins' '4.1' '79446' '7' '2016'\n",
      "  'Fiction']\n",
      " ['Where the Crawdads Sing' 'Delia Owens' '4.8' '87841' '15' '2019'\n",
      "  'Fiction']]\n"
     ]
    }
   ],
   "source": [
    "#review\n",
    "print(data_n[np.argsort(data_n[:,1])[-5:]])\n",
    "print(data[np.argsort(data_n[:,1])[-5:]])"
   ]
  },
  {
   "cell_type": "markdown",
   "metadata": {},
   "source": [
    "## if we are curious to know at what price audience start to account for 25%,50%,75% (or by quatric) by price:"
   ]
  },
  {
   "cell_type": "code",
   "execution_count": 21,
   "metadata": {
    "ExecuteTime": {
     "end_time": "2020-11-17T18:37:51.929502Z",
     "start_time": "2020-11-17T18:37:51.886429Z"
    }
   },
   "outputs": [
    {
     "data": {
      "text/plain": [
       "7.0"
      ]
     },
     "execution_count": 21,
     "metadata": {},
     "output_type": "execute_result"
    }
   ],
   "source": [
    "np.percentile(data_n[:,2],25)"
   ]
  },
  {
   "cell_type": "code",
   "execution_count": 22,
   "metadata": {
    "ExecuteTime": {
     "end_time": "2020-11-17T18:38:03.757902Z",
     "start_time": "2020-11-17T18:38:03.723500Z"
    }
   },
   "outputs": [
    {
     "data": {
      "text/plain": [
       "11.0"
      ]
     },
     "execution_count": 22,
     "metadata": {},
     "output_type": "execute_result"
    }
   ],
   "source": [
    "np.percentile(data_n[:,2],50)"
   ]
  },
  {
   "cell_type": "code",
   "execution_count": 24,
   "metadata": {
    "ExecuteTime": {
     "end_time": "2020-11-17T18:39:28.095973Z",
     "start_time": "2020-11-17T18:39:28.060095Z"
    }
   },
   "outputs": [
    {
     "data": {
      "text/plain": [
       "16.0"
      ]
     },
     "execution_count": 24,
     "metadata": {},
     "output_type": "execute_result"
    }
   ],
   "source": [
    "np.percentile(data_n[:,2],75)"
   ]
  },
  {
   "cell_type": "markdown",
   "metadata": {},
   "source": [
    "- although price range 0 to 105usd \n",
    "- but majority pay low price, we can see 75% audiences pay prices under 16 usd"
   ]
  },
  {
   "cell_type": "markdown",
   "metadata": {},
   "source": [
    "## if we wonder within range mean+ or -std of price, how much data points fall in?\n",
    "\n"
   ]
  },
  {
   "cell_type": "code",
   "execution_count": 46,
   "metadata": {
    "ExecuteTime": {
     "end_time": "2020-11-17T19:10:58.500212Z",
     "start_time": "2020-11-17T19:10:58.448657Z"
    }
   },
   "outputs": [
    {
     "name": "stdout",
     "output_type": "stream",
     "text": [
      "[[    4.7 17350.      8.   2016. ]\n",
      " [    4.6  2052.     22.   2011. ]\n",
      " [    4.7 18979.     15.   2018. ]\n",
      " ...\n",
      " [    4.7 14331.      8.   2017. ]\n",
      " [    4.7 14331.      8.   2018. ]\n",
      " [    4.7 14331.      8.   2019. ]]\n",
      "484\n",
      "percentage data points fall within search range 88.0\n"
     ]
    }
   ],
   "source": [
    "# from previous step: \n",
    "# mean price: 13.1 \n",
    "# std: 10.8\n",
    "a=data_n[(data_n[:,2]>2.3)&(data_n[:,2]<23.9)]\n",
    "print(a)\n",
    "print(len(a)) #---> 484 rows has price within our search range\n",
    "print('percentage data points fall within search range',len(a)*100/550)"
   ]
  }
 ],
 "metadata": {
  "kernelspec": {
   "display_name": "Python 3",
   "language": "python",
   "name": "python3"
  },
  "language_info": {
   "codemirror_mode": {
    "name": "ipython",
    "version": 3
   },
   "file_extension": ".py",
   "mimetype": "text/x-python",
   "name": "python",
   "nbconvert_exporter": "python",
   "pygments_lexer": "ipython3",
   "version": "3.8.3"
  },
  "toc": {
   "base_numbering": 1,
   "nav_menu": {},
   "number_sections": true,
   "sideBar": true,
   "skip_h1_title": false,
   "title_cell": "Table of Contents",
   "title_sidebar": "Contents",
   "toc_cell": false,
   "toc_position": {},
   "toc_section_display": true,
   "toc_window_display": false
  }
 },
 "nbformat": 4,
 "nbformat_minor": 4
}
